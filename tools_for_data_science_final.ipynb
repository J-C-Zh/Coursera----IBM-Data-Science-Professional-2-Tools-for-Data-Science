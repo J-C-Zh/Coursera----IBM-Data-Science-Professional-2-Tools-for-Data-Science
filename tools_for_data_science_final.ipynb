{
    "cells": [
        {
            "metadata": {
                "collapsed": true
            },
            "cell_type": "markdown",
            "source": "# My Jupyter Notebook on IBM Watson Studio"
        },
        {
            "metadata": {},
            "cell_type": "markdown",
            "source": "**Cynthia Zhou**\n\nDesired occupation: data engineer"
        },
        {
            "metadata": {},
            "cell_type": "markdown",
            "source": "_I am interested in data science because the era of big data is coming._"
        },
        {
            "metadata": {},
            "cell_type": "markdown",
            "source": "### My code will calculate the square root of 3 ### "
        },
        {
            "metadata": {},
            "cell_type": "code",
            "source": "import math\nx = math.sqrt(3)\nprint(x)",
            "execution_count": 6,
            "outputs": [
                {
                    "output_type": "stream",
                    "text": "1.7320508075688772\n",
                    "name": "stdout"
                }
            ]
        },
        {
            "metadata": {},
            "cell_type": "markdown",
            "source": "To do list:\n1. dentist appointment\n2. grocery shopping\n  * ~~cereals~~\n  * energy drink\n  * candy\n3. send emails\n\n**name** | **title** | **email address**\n---|---|---\nLilly Snider | manager | lsnider@company.com\nEthan phillips | engineer | ephillips@company.com\n\n4. take survey\n   [Jefferco public school home page](https://jeffcoconnect.jeffco.k12.co.us/ \"Jefferco public school Homepage\")"
        }
    ],
    "metadata": {
        "kernelspec": {
            "name": "python3",
            "display_name": "Python 3.7",
            "language": "python"
        },
        "language_info": {
            "name": "python",
            "version": "3.7.9",
            "mimetype": "text/x-python",
            "codemirror_mode": {
                "name": "ipython",
                "version": 3
            },
            "pygments_lexer": "ipython3",
            "nbconvert_exporter": "python",
            "file_extension": ".py"
        }
    },
    "nbformat": 4,
    "nbformat_minor": 1
}